{
 "cells": [
  {
   "cell_type": "markdown",
   "metadata": {},
   "source": [
    "# Practice Interview\n",
    "\n",
    "## Objective\n",
    "\n",
    "_*The partner assignment aims to provide participants with the opportunity to practice coding in an interview context. You will analyze your partner's Assignment 1. Moreover, code reviews are common practice in a software development team. This assignment should give you a taste of the code review process.*_\n",
    "\n",
    "## Group Size\n",
    "\n",
    "Each group should have 2 people. You will be assigned a partner\n",
    "\n",
    "## Part 1:\n",
    "\n",
    "You and your partner must share each other's Assignment 1 submission."
   ]
  },
  {
   "cell_type": "markdown",
   "metadata": {},
   "source": [
    "\n",
    "## Part 2:\n",
    "\n",
    "Create a Jupyter Notebook, create 6 of the following headings, and complete the following for your partner's assignment 1:\n",
    "\n",
    "-   Paraphrase the problem in your own words.\n"
   ]
  },
  {
   "cell_type": "code",
   "execution_count": null,
   "metadata": {},
   "outputs": [],
   "source": [
    "# Your answer here\n",
    "'''\n",
    "A list of n numbers are generated from a range of numbers from 0 to n, where 0 is the lowest\n",
    "number and n is the largest number.\n",
    "Identify which numbers in the range of 0 to n are missing from the list.\n",
    "'''"
   ]
  },
  {
   "cell_type": "markdown",
   "metadata": {},
   "source": [
    "\n",
    "-   Create 1 new example that demonstrates you understand the problem. Trace/walkthrough 1 example that your partner made and explain it.\n"
   ]
  },
  {
   "cell_type": "code",
   "execution_count": 6,
   "metadata": {},
   "outputs": [
    {
     "data": {
      "text/plain": [
       "[3, 4]"
      ]
     },
     "execution_count": 6,
     "metadata": {},
     "output_type": "execute_result"
    }
   ],
   "source": [
    "# Your answer here\n",
    "\n",
    "\n",
    "'''  \n",
    "My Example\n",
    "nums = [0,2,2,1,5]\n",
    "The output of my example list would be 3 and 4.\n",
    "\n",
    "\n",
    "Partner example\n",
    "missing_num([3, 0, 1]) # 2\n",
    "n in this case is 3. We'd want to see numbers 0,1,2,3 in the list but since we can only have\n",
    "3 numbers in the list, there will always be an output of a missing value in this case. In this\n",
    "example specifically, 2 is missing.\n",
    "\n",
    "\n",
    "'''\n",
    "\n"
   ]
  },
  {
   "cell_type": "markdown",
   "metadata": {},
   "source": [
    "\n",
    "-   Copy the solution your partner wrote. \n"
   ]
  },
  {
   "cell_type": "code",
   "execution_count": null,
   "metadata": {},
   "outputs": [],
   "source": [
    "# Your answer here\n",
    "def missing_num(nums) -> int:\n",
    "    if len(nums) == 0:\n",
    "        return -1\n",
    "    min_num = min(nums)\n",
    "    max_num = max(nums)\n",
    "    miss_list = []\n",
    "\n",
    "    for i in range(min_num, max_num):\n",
    "        if i not in nums:\n",
    "            miss_list.append(i)\n",
    "\n",
    "    len(miss_list) == 0\n",
    "    return -1 if len(miss_list) == 0 else miss_list\n"
   ]
  },
  {
   "cell_type": "markdown",
   "metadata": {},
   "source": [
    "\n",
    "-   Explain why their solution works in your own words.\n"
   ]
  },
  {
   "cell_type": "code",
   "execution_count": null,
   "metadata": {},
   "outputs": [],
   "source": [
    "# Your answer here\n",
    "'''  \n",
    "If length of the list is 0, exit the function.\n",
    "Identify the minimum and maximum numbers from the list.\n",
    "Create a new list to store missing values from list provided.\n",
    "Loop through each number between 0 and n to check if that number is in the list.\n",
    "If the number is not in the list, add it to the missing value list.\n",
    "After the loop is complete, if the missing value list is 0, return -1, otherwise return\n",
    "the missing value list.\n",
    "\n",
    "'''"
   ]
  },
  {
   "cell_type": "markdown",
   "metadata": {},
   "source": [
    "\n",
    "-   Explain the problem’s time and space complexity in your own words.\n"
   ]
  },
  {
   "cell_type": "code",
   "execution_count": null,
   "metadata": {},
   "outputs": [],
   "source": [
    "# Your answer here\n",
    "\n",
    "'''  \n",
    "To identify the minimum and maximum numbers, we need to go through the entire list twice \n",
    "which means it is 2 * O(n), which equals to O(n).\n",
    "To loop through the list of numbers is O(n) since the loop has to go through all numbers in the list.\n",
    "So the time complexity is O(n^2)\n",
    "\n",
    "Space complexity is O(n) since all numbers may need to be stored in memory\n",
    "\n",
    "'''"
   ]
  },
  {
   "cell_type": "markdown",
   "metadata": {},
   "source": [
    "\n",
    "-   Critique your partner's solution, including explanation, and if there is anything that should be adjusted.\n"
   ]
  },
  {
   "cell_type": "code",
   "execution_count": null,
   "metadata": {},
   "outputs": [],
   "source": [
    "# Your answer here\n",
    "\n",
    "'''  \n",
    "I think there might be a way to do this recursively by leaving one out.\n",
    "Identifying the minimum and maximum value is important because n might be a negative integer.\n",
    "I think it is possible to perform the function recursively but other than that \n",
    "the function is good overall and performs the required actions.\n",
    "\n",
    "\n",
    "'''"
   ]
  },
  {
   "cell_type": "markdown",
   "metadata": {},
   "source": [
    "\n",
    "## Part 3:\n",
    "\n",
    "Please write a 200 word reflection documenting your process from assignment 1, and your presentation and review experience with your partner at the bottom of the Jupyter Notebook under a new heading \"Reflection.\" Again, export this Notebook as pdf.\n"
   ]
  },
  {
   "cell_type": "markdown",
   "metadata": {},
   "source": [
    "### Reflection"
   ]
  },
  {
   "cell_type": "code",
   "execution_count": null,
   "metadata": {},
   "outputs": [],
   "source": [
    "# Your answer here\n",
    "\n",
    "'''  \n",
    "The assignment question was a  challenging at first and I had to iterate through\n",
    "the code building process quite a bit to get to the final answer.\n",
    "I was not aware of how to build recursive functions previously,\n",
    "and still struggle to think of a recursive function, but this assignment\n",
    "helped me think through different ways I can get to the same solution.\n",
    "\n",
    "I had to rewrite some functions, create new functions and move things around to get\n",
    "to the final solution, which made me wonder if full time developers are\n",
    "able to create optimized functions right off the bat, or if they have to\n",
    "make changes as they are coding.\n",
    "\n",
    "\n",
    "For the partner assignment, it was interesting and reassuring to see that\n",
    "the other students had similar thought processes and used the types\n",
    "of functions that I would have used to solve their assignment question.\n",
    "\n",
    "Overall, this course has made me interested in learning to build out more\n",
    "complex functions and made me think of ways how I can incorporate \n",
    "different functions into my current work.\n",
    "\n",
    "\n",
    "\n",
    "'''"
   ]
  },
  {
   "cell_type": "markdown",
   "metadata": {},
   "source": [
    "\n",
    "## Evaluation Criteria\n",
    "\n",
    "We are looking for the similar points as Assignment 1\n",
    "\n",
    "-   Problem is accurately stated\n",
    "\n",
    "-   New example is correct and easily understandable\n",
    "\n",
    "-   Correctness, time, and space complexity of the coding solution\n",
    "\n",
    "-   Clarity in explaining why the solution works, its time and space complexity\n",
    "\n",
    "-   Quality of critique of your partner's assignment, if necessary\n"
   ]
  },
  {
   "cell_type": "markdown",
   "metadata": {},
   "source": [
    "## Submission Information\n",
    "\n",
    "🚨 **Please review our [Assignment Submission Guide](https://github.com/UofT-DSI/onboarding/blob/main/onboarding_documents/submissions.md)** 🚨 for detailed instructions on how to format, branch, and submit your work. Following these guidelines is crucial for your submissions to be evaluated correctly.\n",
    "\n",
    "### Submission Parameters:\n",
    "* Submission Due Date: `HH:MM AM/PM - DD/MM/YYYY`\n",
    "* The branch name for your repo should be: `assignment-2`\n",
    "* What to submit for this assignment:\n",
    "    * This Jupyter Notebook (assignment_2.ipynb) should be populated and should be the only change in your pull request.\n",
    "* What the pull request link should look like for this assignment: `https://github.com/<your_github_username>/algorithms_and_data_structures/pull/<pr_id>`\n",
    "    * Open a private window in your browser. Copy and paste the link to your pull request into the address bar. Make sure you can see your pull request properly. This helps the technical facilitator and learning support staff review your submission easily.\n",
    "\n",
    "Checklist:\n",
    "- [ ] Created a branch with the correct naming convention.\n",
    "- [ ] Ensured that the repository is public.\n",
    "- [ ] Reviewed the PR description guidelines and adhered to them.\n",
    "- [ ] Verify that the link is accessible in a private browser window.\n",
    "\n",
    "If you encounter any difficulties or have questions, please don't hesitate to reach out to our team via our Slack at `#cohort-3-help`. Our Technical Facilitators and Learning Support staff are here to help you navigate any challenges.\n"
   ]
  }
 ],
 "metadata": {
  "kernelspec": {
   "display_name": "dsi_participant",
   "language": "python",
   "name": "python3"
  },
  "language_info": {
   "codemirror_mode": {
    "name": "ipython",
    "version": 3
   },
   "file_extension": ".py",
   "mimetype": "text/x-python",
   "name": "python",
   "nbconvert_exporter": "python",
   "pygments_lexer": "ipython3",
   "version": "3.9.15"
  }
 },
 "nbformat": 4,
 "nbformat_minor": 2
}
